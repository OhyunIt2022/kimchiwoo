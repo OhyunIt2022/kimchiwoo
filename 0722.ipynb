{
  "cells": [
    {
      "cell_type": "code",
      "execution_count": null,
      "metadata": {
        "colab": {
          "base_uri": "https://localhost:8080/"
        },
        "id": "Kd9GAQ4xh7It",
        "outputId": "99978f6c-53f2-48f2-921d-24ffb73daab9"
      },
      "outputs": [
        {
          "name": "stdout",
          "output_type": "stream",
          "text": [
            "hello world\n"
          ]
        }
      ],
      "source": [
        "print(\"hello world\")"
      ]
    },
    {
      "cell_type": "code",
      "execution_count": null,
      "metadata": {
        "colab": {
          "base_uri": "https://localhost:8080/"
        },
        "id": "lkVl5A8DjR-V",
        "outputId": "159223f5-97da-41db-8405-17f003a74fa6"
      },
      "outputs": [
        {
          "name": "stdout",
          "output_type": "stream",
          "text": [
            "11\n"
          ]
        }
      ],
      "source": [
        "print(11)"
      ]
    },
    {
      "cell_type": "code",
      "execution_count": null,
      "metadata": {
        "id": "_QMPgGdokTcV"
      },
      "outputs": [],
      "source": [
        "문자=\"ㅗ\""
      ]
    },
    {
      "cell_type": "code",
      "execution_count": null,
      "metadata": {
        "colab": {
          "base_uri": "https://localhost:8080/"
        },
        "id": "BoDjHAJ6jWUM",
        "outputId": "885ae142-d4fb-465f-ae25-4c3ecf1ececf"
      },
      "outputs": [
        {
          "name": "stdout",
          "output_type": "stream",
          "text": [
            "ㅗ\n"
          ]
        }
      ],
      "source": [
        "print(문자)"
      ]
    },
    {
      "cell_type": "code",
      "execution_count": null,
      "metadata": {
        "colab": {
          "base_uri": "https://localhost:8080/"
        },
        "id": "fah7OQzkmRGW",
        "outputId": "ee4516db-65b0-47f6-8eec-2f0212b97479"
      },
      "outputs": [
        {
          "name": "stdout",
          "output_type": "stream",
          "text": [
            "\"\n"
          ]
        }
      ],
      "source": [
        "print(\"\\\"\")"
      ]
    },
    {
      "cell_type": "code",
      "execution_count": null,
      "metadata": {
        "colab": {
          "base_uri": "https://localhost:8080/"
        },
        "id": "974UJ9G4mwDc",
        "outputId": "18c7f45e-baca-437e-bfe1-e6ed0eb937ba"
      },
      "outputs": [
        {
          "name": "stdout",
          "output_type": "stream",
          "text": [
            "안녕하세요\b\n"
          ]
        }
      ],
      "source": [
        "print(\"안녕하세요\\b\") # \\b는 backspace"
      ]
    },
    {
      "cell_type": "code",
      "execution_count": null,
      "metadata": {
        "colab": {
          "base_uri": "https://localhost:8080/"
        },
        "id": "VVoHmXNDnBwm",
        "outputId": "a824ccb8-4f10-4972-8f80-18a3d30ac187"
      },
      "outputs": [
        {
          "name": "stdout",
          "output_type": "stream",
          "text": [
            "안녕하\n",
            "세요\n"
          ]
        }
      ],
      "source": [
        "print(\"안녕하\\n세요\")"
      ]
    },
    {
      "cell_type": "code",
      "execution_count": null,
      "metadata": {
        "colab": {
          "base_uri": "https://localhost:8080/"
        },
        "id": "2z63ENRlnZnS",
        "outputId": "776b0b1a-73ee-4dad-a8b5-97d2fd7b1404"
      },
      "outputs": [
        {
          "name": "stdout",
          "output_type": "stream",
          "text": [
            "안녕하\t세요\n"
          ]
        }
      ],
      "source": [
        "print(\"안녕하\\t세요\")"
      ]
    },
    {
      "cell_type": "code",
      "execution_count": null,
      "metadata": {
        "colab": {
          "base_uri": "https://localhost:8080/"
        },
        "id": "dQyb9hdUnmul",
        "outputId": "5263a8b1-42b8-4961-e421-14d81ac71d3f"
      },
      "outputs": [
        {
          "name": "stdout",
          "output_type": "stream",
          "text": [
            "안녕하\\세요\n"
          ]
        }
      ],
      "source": [
        "print(\"안녕하\\\\세요\")# \\=출력"
      ]
    },
    {
      "cell_type": "code",
      "execution_count": null,
      "metadata": {
        "colab": {
          "base_uri": "https://localhost:8080/"
        },
        "id": "4M5MIRdDnvcn",
        "outputId": "592b8219-70dd-44cf-f15f-744d0b575059"
      },
      "outputs": [
        {
          "name": "stdout",
          "output_type": "stream",
          "text": [
            "\" '\n"
          ]
        }
      ],
      "source": [
        "print(\"\\\" \\'\" )"
      ]
    },
    {
      "cell_type": "code",
      "execution_count": null,
      "metadata": {
        "colab": {
          "base_uri": "https://localhost:8080/"
        },
        "id": "OYOdEZM_n6oE",
        "outputId": "5ea3bc28-3f0c-44f0-c9fd-4d4970956f4c"
      },
      "outputs": [
        {
          "name": "stdout",
          "output_type": "stream",
          "text": [
            "\\\"('.')\"/\n"
          ]
        }
      ],
      "source": [
        "print(\"\\\\\\\"(\\'.\\')\\\"/\")"
      ]
    },
    {
      "cell_type": "code",
      "execution_count": null,
      "metadata": {
        "colab": {
          "base_uri": "https://localhost:8080/"
        },
        "id": "1s908LJYp2mD",
        "outputId": "0618f9ac-c175-4976-bbd0-54d471429603"
      },
      "outputs": [
        {
          "name": "stdout",
          "output_type": "stream",
          "text": [
            "data1\n",
            "data2\n",
            "data3끝"
          ]
        }
      ],
      "source": [
        "print(\"data1\", \"data2\", \"data3\", sep=\"\\n\",end=\"끝\" )"
      ]
    },
    {
      "cell_type": "code",
      "execution_count": null,
      "metadata": {
        "colab": {
          "base_uri": "https://localhost:8080/"
        },
        "id": "N2_U7LxMrG9E",
        "outputId": "1fa3f9aa-2382-4f48-b679-037e055a3873"
      },
      "outputs": [
        {
          "name": "stdout",
          "output_type": "stream",
          "text": [
            "010 - 2310 - 3085\n"
          ]
        }
      ],
      "source": [
        "전번1=\"010\"\n",
        "전번2=\"2310\"\n",
        "전번3=\"3085\"\n",
        "print(전번1, 전번2, 전번3, sep=\" - \")\n"
      ]
    },
    {
      "cell_type": "code",
      "execution_count": null,
      "metadata": {
        "id": "cBKIATx4yuOt"
      },
      "outputs": [],
      "source": [
        "name=\"kcw\""
      ]
    },
    {
      "cell_type": "code",
      "execution_count": null,
      "metadata": {
        "colab": {
          "base_uri": "https://localhost:8080/"
        },
        "id": "Syym9_fLyzzV",
        "outputId": "2b52f956-a4d5-4730-f3b4-e13baa97f3dc"
      },
      "outputs": [
        {
          "name": "stdout",
          "output_type": "stream",
          "text": [
            "kcw\n"
          ]
        }
      ],
      "source": [
        "print(name)"
      ]
    },
    {
      "cell_type": "code",
      "execution_count": null,
      "metadata": {
        "id": "-c9rKZ8nzJKf"
      },
      "outputs": [],
      "source": [
        "반=6"
      ]
    },
    {
      "cell_type": "code",
      "execution_count": null,
      "metadata": {
        "colab": {
          "base_uri": "https://localhost:8080/"
        },
        "id": "Y7Xsy3Y6zN0F",
        "outputId": "3c478ae8-e042-46f6-a5e2-394afd0668db"
      },
      "outputs": [
        {
          "name": "stdout",
          "output_type": "stream",
          "text": [
            "6\n"
          ]
        }
      ],
      "source": [
        "print(반)"
      ]
    },
    {
      "cell_type": "code",
      "execution_count": null,
      "metadata": {
        "colab": {
          "base_uri": "https://localhost:8080/"
        },
        "id": "TahR8N-RzbNK",
        "outputId": "00bade03-7194-4c08-f2c0-8424df6c0007"
      },
      "outputs": [
        {
          "name": "stdout",
          "output_type": "stream",
          "text": [
            "<class 'int'>\n"
          ]
        }
      ],
      "source": [
        "print(type(반))"
      ]
    },
    {
      "cell_type": "code",
      "execution_count": null,
      "metadata": {
        "colab": {
          "base_uri": "https://localhost:8080/"
        },
        "id": "ebDaHmW5zvSB",
        "outputId": "11389aea-6f5c-480a-f4df-d252b633f2ac"
      },
      "outputs": [
        {
          "name": "stdout",
          "output_type": "stream",
          "text": [
            "<class 'str'>\n"
          ]
        }
      ],
      "source": [
        "print(type(name))"
      ]
    },
    {
      "cell_type": "code",
      "execution_count": null,
      "metadata": {
        "colab": {
          "base_uri": "https://localhost:8080/"
        },
        "id": "hJpL7fZjz21d",
        "outputId": "4d67708d-3c0f-47e0-e50d-88b85841f484"
      },
      "outputs": [
        {
          "name": "stdout",
          "output_type": "stream",
          "text": [
            "<class 'float'>\n"
          ]
        }
      ],
      "source": [
        "소수=3.14159265\n",
        "print(type(소수))"
      ]
    },
    {
      "cell_type": "code",
      "execution_count": null,
      "metadata": {
        "colab": {
          "base_uri": "https://localhost:8080/"
        },
        "id": "RRbb7ozP0nIC",
        "outputId": "ac927699-9c85-436a-af6e-0714db7eb33d"
      },
      "outputs": [
        {
          "name": "stdout",
          "output_type": "stream",
          "text": [
            "2\n"
          ]
        }
      ],
      "source": [
        "print(0b10)"
      ]
    },
    {
      "cell_type": "code",
      "execution_count": null,
      "metadata": {
        "colab": {
          "base_uri": "https://localhost:8080/"
        },
        "id": "ZIm8fuCW0vVz",
        "outputId": "e7ca69e9-d3a8-4dfd-f88c-425a61e3ff04"
      },
      "outputs": [
        {
          "name": "stdout",
          "output_type": "stream",
          "text": [
            "16\n"
          ]
        }
      ],
      "source": [
        "print(0x10)"
      ]
    },
    {
      "cell_type": "code",
      "execution_count": null,
      "metadata": {
        "colab": {
          "base_uri": "https://localhost:8080/"
        },
        "id": "2IpONFT41JbY",
        "outputId": "1cd9a725-7970-4575-d2c1-68bbedec4972"
      },
      "outputs": [
        {
          "name": "stdout",
          "output_type": "stream",
          "text": [
            "15\n",
            "5\n"
          ]
        }
      ],
      "source": [
        "print(10+5)\n",
        "print(10-5)"
      ]
    },
    {
      "cell_type": "code",
      "execution_count": null,
      "metadata": {
        "id": "Udzo2TaL1r9U"
      },
      "outputs": [],
      "source": [
        "name=\"kkkcw\"\n",
        "print()"
      ]
    },
    {
      "cell_type": "code",
      "execution_count": null,
      "metadata": {
        "colab": {
          "base_uri": "https://localhost:8080/"
        },
        "id": "62fnA__Q4QQE",
        "outputId": "5054c222-6f2d-4e9d-d517-e1bb51416138"
      },
      "outputs": [
        {
          "name": "stdout",
          "output_type": "stream",
          "text": [
            "3\n"
          ]
        }
      ],
      "source": [
        "print(len(name))"
      ]
    },
    {
      "cell_type": "code",
      "execution_count": null,
      "metadata": {
        "colab": {
          "base_uri": "https://localhost:8080/"
        },
        "id": "BJHIQqTt9KWq",
        "outputId": "55c376c7-b3c8-4c32-e1fb-2ecec82b9c5a"
      },
      "outputs": [
        {
          "name": "stdout",
          "output_type": "stream",
          "text": [
            "[1, 2, 3, 4, 5]\n"
          ]
        }
      ],
      "source": [
        "print([1,2,3,4,5])"
      ]
    },
    {
      "cell_type": "code",
      "execution_count": null,
      "metadata": {
        "id": "485NpXxT9QnB"
      },
      "outputs": [],
      "source": [
        "array=[-1,10.2,\"name\",[1,2,3]]"
      ]
    },
    {
      "cell_type": "code",
      "execution_count": null,
      "metadata": {
        "colab": {
          "base_uri": "https://localhost:8080/"
        },
        "id": "k_Ji4W_A9kE5",
        "outputId": "74336902-7010-4048-ccdc-bf36304bcfdf"
      },
      "outputs": [
        {
          "name": "stdout",
          "output_type": "stream",
          "text": [
            "-1\n"
          ]
        }
      ],
      "source": [
        "print(array[0])"
      ]
    },
    {
      "cell_type": "code",
      "execution_count": null,
      "metadata": {
        "colab": {
          "base_uri": "https://localhost:8080/"
        },
        "id": "YYd5lo369yLO",
        "outputId": "d1ca2266-0013-4a8e-e607-30b525416788"
      },
      "outputs": [
        {
          "name": "stdout",
          "output_type": "stream",
          "text": [
            "[10.2, 'name']\n"
          ]
        }
      ],
      "source": [
        "print(array[1:3])"
      ]
    },
    {
      "cell_type": "code",
      "execution_count": null,
      "metadata": {
        "colab": {
          "base_uri": "https://localhost:8080/"
        },
        "id": "GUau2Bo1_QIh",
        "outputId": "e433f44c-4fa0-4ba3-c74d-b2646cb27823"
      },
      "outputs": [
        {
          "name": "stdout",
          "output_type": "stream",
          "text": [
            "****5678\n"
          ]
        }
      ],
      "source": [
        "num=\"01045678\"\n",
        "print((len(num)-4)*\"*\"+num[-4:])"
      ]
    },
    {
      "cell_type": "code",
      "execution_count": null,
      "metadata": {
        "id": "sASVjJDGG67I"
      },
      "outputs": [],
      "source": []
    }
  ],
  "metadata": {
    "colab": {
      "name": "0722.ipynb",
      "provenance": []
    },
    "kernelspec": {
      "display_name": "Python 3",
      "name": "python3"
    },
    "language_info": {
      "name": "python"
    }
  },
  "nbformat": 4,
  "nbformat_minor": 0
}
